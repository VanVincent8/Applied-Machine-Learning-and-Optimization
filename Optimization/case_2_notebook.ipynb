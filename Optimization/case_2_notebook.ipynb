{
  "nbformat": 4,
  "nbformat_minor": 0,
  "metadata": {
    "colab": {
      "name": "case_2_student_notebook.ipynb",
      "provenance": [],
      "collapsed_sections": []
    },
    "kernelspec": {
      "name": "python3",
      "display_name": "Python 3"
    },
    "language_info": {
      "name": "python"
    }
  },
  "cells": [
    {
      "cell_type": "markdown",
      "source": [
        "# Installing and checking all is in place"
      ],
      "metadata": {
        "id": "HFavOEVS0dbY"
      }
    },
    {
      "cell_type": "markdown",
      "source": [
        "The first thing you need to do is to install `pulp`. `pulp` is not in the standard available packages in Colab, so you need to run the following cell once. "
      ],
      "metadata": {
        "id": "HgZwpjUG0PsK"
      }
    },
    {
      "cell_type": "code",
      "source": [
        "!pip install pulp"
      ],
      "metadata": {
        "id": "ni6Q_YiO0nIm",
        "colab": {
          "base_uri": "https://localhost:8080/"
        },
        "outputId": "8d5c64f1-7759-4b35-b8cf-8902da3bae2c"
      },
      "execution_count": null,
      "outputs": [
        {
          "output_type": "stream",
          "name": "stdout",
          "text": [
            "Looking in indexes: https://pypi.org/simple, https://us-python.pkg.dev/colab-wheels/public/simple/\n",
            "Collecting pulp\n",
            "  Downloading PuLP-2.6.0-py3-none-any.whl (14.2 MB)\n",
            "\u001b[K     |████████████████████████████████| 14.2 MB 5.2 MB/s \n",
            "\u001b[?25hInstalling collected packages: pulp\n",
            "Successfully installed pulp-2.6.0\n"
          ]
        }
      ]
    },
    {
      "cell_type": "markdown",
      "source": [
        "After doing that, you can import the library."
      ],
      "metadata": {
        "id": "k9YI0Kzw0qLT"
      }
    },
    {
      "cell_type": "code",
      "source": [
        "import pulp"
      ],
      "metadata": {
        "id": "hw6keX7x0tZ1"
      },
      "execution_count": null,
      "outputs": []
    },
    {
      "cell_type": "markdown",
      "source": [
        "If all is good, running the following command will print a large log testing `pulp`. The last line should read \"OK\"."
      ],
      "metadata": {
        "id": "vD_rXehL1KXX"
      }
    },
    {
      "cell_type": "code",
      "source": [
        "pulp.pulpTestAll()"
      ],
      "metadata": {
        "id": "Ney2a8mu1JqQ",
        "colab": {
          "base_uri": "https://localhost:8080/"
        },
        "outputId": "cb3707b0-87db-4ba1-bdb0-248180f8434b"
      },
      "execution_count": null,
      "outputs": [
        {
          "output_type": "stream",
          "name": "stderr",
          "text": [
            "ssssssssssssssssssssssssssssssssssssssssssssssssssssssssssssssssssssssssssssssssssssssssssssssssssssssssssssssssssssssssssssssssssssssssssssssssssssssssssssssssssssssssssssssssssssssssssssssssssssssssssssssssssssssssssssssssssssssssssssssssssssssssssssssssssssssssssssssssssssssssssssssssssssssssssssssssssssssssssssssssssssssssssssssssssssssssssssssssssssssssssssssssssssssssssssssssssssssssssssssssssssssssssssssssssssssssssssssssssssssssssssssssssssssssssssssssssssssssssssssssssssssssssssssssssssssssssssssssssssssssssssssssssssssssssssssssssssssssssssssss........"
          ]
        },
        {
          "output_type": "stream",
          "name": "stdout",
          "text": [
            "\t Test that logic put in place for deprecation handling of indexs works\n",
            "\t Testing 'indexs' param continues to work for LpVariable.dicts\n",
            "\t Testing 'indexs' param continues to work for LpVariable.matrix\n",
            "\t Testing 'indices' argument works in LpVariable.dicts\n",
            "\t Testing 'indices' param continues to work for LpVariable.matrix\n",
            "\t Testing invalid status\n",
            "\t Testing continuous LP solution - export dict\n",
            "\t Testing export dict for LP\n",
            "\t Testing export dict MIP\n",
            "\t Testing maximize continuous LP solution\n",
            "\t Testing continuous LP solution - export JSON\n"
          ]
        },
        {
          "output_type": "stream",
          "name": "stderr",
          "text": [
            "........."
          ]
        },
        {
          "output_type": "stream",
          "name": "stdout",
          "text": [
            "\t Testing continuous LP solution - export solver dict\n",
            "\t Testing continuous LP solution - export solver JSON\n",
            "\t Testing reading MPS files - binary variable, no constraint names\n",
            "\t Testing reading MPS files - integer variable\n",
            "\t Testing reading MPS files - maximize\n",
            "\t Testing invalid var names\n",
            "\t Testing logPath argument\n"
          ]
        },
        {
          "output_type": "stream",
          "name": "stderr",
          "text": [
            "..."
          ]
        },
        {
          "output_type": "stream",
          "name": "stdout",
          "text": [
            "\t Testing makeDict general behavior\n",
            "\t Testing makeDict default value behavior\n",
            "\t Testing measuring optimization time\n"
          ]
        },
        {
          "output_type": "stream",
          "name": "stderr",
          "text": [
            "..........."
          ]
        },
        {
          "output_type": "stream",
          "name": "stdout",
          "text": [
            "\t Testing the availability of the function pulpTestAll\n",
            "\t Testing zero subtraction\n",
            "\t Testing inconsistent lp solution\n",
            "\t Testing continuous LP solution\n",
            "\t Testing maximize continuous LP solution\n",
            "\t Testing unbounded continuous LP solution\n",
            "\t Testing Long Names\n",
            "\t Testing repeated Names\n",
            "\t Testing zero constraint\n",
            "\t Testing zero objective\n",
            "\t Testing LpVariable (not LpAffineExpression) objective\n"
          ]
        },
        {
          "output_type": "stream",
          "name": "stderr",
          "text": [
            "........."
          ]
        },
        {
          "output_type": "stream",
          "name": "stdout",
          "text": [
            "\t Testing Long lines in LP\n",
            "\t Testing LpAffineExpression divide\n",
            "\t Testing MIP solution\n",
            "\t Testing MIP solution with floats in objective\n",
            "\t Testing Initial value in MIP solution\n",
            "\t Testing fixing value in MIP solution\n",
            "\t Testing MIP relaxation\n",
            "\t Testing feasibility problem (no objective)\n",
            "\t Testing an infeasible problem\n"
          ]
        },
        {
          "output_type": "stream",
          "name": "stderr",
          "text": [
            "..........."
          ]
        },
        {
          "output_type": "stream",
          "name": "stdout",
          "text": [
            "\t Testing an integer infeasible problem\n",
            "\t Testing another integer infeasible problem\n",
            "\t Testing column based modelling\n",
            "\t Testing dual variables and slacks reporting\n",
            "\t Testing fractional constraints\n",
            "\t Testing elastic constraints (no change)\n",
            "\t Testing elastic constraints (freebound)\n",
            "\t Testing elastic constraints (penalty unchanged)\n"
          ]
        },
        {
          "output_type": "stream",
          "name": "stderr",
          "text": [
            ".....sssssssssssssssssssssssssssssssssssssssssssssssss"
          ]
        },
        {
          "output_type": "stream",
          "name": "stdout",
          "text": [
            "\t Testing elastic constraints (penalty unbounded)\n",
            "\t Testing timeLimit argument\n"
          ]
        },
        {
          "output_type": "stream",
          "name": "stderr",
          "text": [
            "sssssssssssssssssssssssssssssssssssssssssssssssssssssssssssssssssssssssssssssssssssssssssssssssssssssssssssssssssssssssssssssssssssssssssssssssssssssssssssssssssssssssssssssss\n",
            "----------------------------------------------------------------------\n",
            "Ran 840 tests in 19.793s\n",
            "\n",
            "OK (skipped=784)\n"
          ]
        }
      ]
    },
    {
      "cell_type": "markdown",
      "source": [
        "# Level 2\n"
      ],
      "metadata": {
        "id": "CkN6RK2v7REq"
      }
    },
    {
      "cell_type": "code",
      "source": [
        "#decision variables:\n",
        "\n",
        "x_rot = pulp.LpVariable(\n",
        "    name = \"x_rot\",\n",
        "    cat = pulp.LpInteger)\n",
        "\n",
        "x_ant = pulp.LpVariable(\n",
        "    name = \"x_ant\",\n",
        "    cat = pulp.LpInteger)\n",
        "\n",
        "x_hamb = pulp.LpVariable(\n",
        "    name = \"x_hamb\",\n",
        "    cat = pulp.LpInteger)\n",
        "\n",
        "x_amst = pulp.LpVariable(\n",
        "    name = \"x_amst\",\n",
        "    cat = pulp.LpInteger)\n",
        "\n",
        "x_mars = pulp.LpVariable(\n",
        "    name = \"x_mars\",\n",
        "    cat = pulp.LpInteger)\n",
        "\n",
        "x_alg = pulp.LpVariable(\n",
        "    name = \"x_alg\",\n",
        "    cat = pulp.LpInteger)\n",
        "\n",
        "x_val = pulp.LpVariable(\n",
        "    name = \"x_val\",\n",
        "    cat = pulp.LpInteger)\n",
        "\n",
        "x_gen = pulp.LpVariable(\n",
        "    name = \"x_gen\",\n",
        "    cat = pulp.LpInteger)"
      ],
      "metadata": {
        "id": "eZBzmh957P_O"
      },
      "execution_count": null,
      "outputs": []
    },
    {
      "cell_type": "code",
      "source": [
        "#Target function:\n",
        "\n",
        "target_function = x_rot*470 + x_ant*470 + x_hamb*480 + x_amst*610 + x_mars*380 + x_alg*280 + x_val*310 + x_gen*340 "
      ],
      "metadata": {
        "id": "O1-0qNf17QDk"
      },
      "execution_count": 11,
      "outputs": []
    },
    {
      "cell_type": "code",
      "source": [
        "#define constraints:\n",
        "\n",
        "# Constraints of capacity\n",
        "c1 = x_rot  <= 33000\n",
        "c2 = x_ant  <= 25000\n",
        "c3 = x_hamb <= 44000\n",
        "c4 = x_amst <= 11000\n",
        "c5 = x_mars <= 9000\n",
        "c6 = x_alg  <= 20000\n",
        "c7 = x_val  <= 11000\n",
        "c8 = x_gen  <= 7500\n",
        "\n",
        "# Constraint of demand to be supplied\n",
        "c9 = x_rot + x_ant + x_hamb + x_amst + x_mars + x_alg+ x_val + x_gen == 50506\n",
        "\n",
        "# Constraints of non negativity\n",
        "c10 = x_rot  >= 0\n",
        "c11 = x_ant  >= 0\n",
        "c12 = x_hamb >= 0\n",
        "c13 = x_amst >= 0\n",
        "c14 = x_mars >= 0 \n",
        "c15 = x_alg  >= 0\n",
        "c16 = x_val  >= 0\n",
        "c17 = x_gen  >= 0\n"
      ],
      "metadata": {
        "id": "U8kPaIus7QHE"
      },
      "execution_count": 12,
      "outputs": []
    },
    {
      "cell_type": "code",
      "source": [
        "problem = pulp.LpProblem(\"level 2 solution\", pulp.LpMinimize) \n",
        "\n",
        "problem += target_function\n",
        "\n",
        "for constraint in (\n",
        "    c1,\n",
        "    c2,\n",
        "    c3,\n",
        "    c4,\n",
        "    c5,\n",
        "    c6,\n",
        "    c7,\n",
        "    c8,\n",
        "    c9,\n",
        "    c10,\n",
        "    c11,\n",
        "    c12,\n",
        "    c13,\n",
        "    c14,\n",
        "    c15,\n",
        "    c16,\n",
        "    c17\n",
        "    ):\n",
        "  problem += constraint"
      ],
      "metadata": {
        "colab": {
          "base_uri": "https://localhost:8080/"
        },
        "id": "2lc-SUzg9Tj_",
        "outputId": "2843e429-e4d8-4bfb-b6ba-07ecfae283db"
      },
      "execution_count": 13,
      "outputs": [
        {
          "output_type": "stream",
          "name": "stderr",
          "text": [
            "/usr/local/lib/python3.7/dist-packages/pulp/pulp.py:1352: UserWarning: Spaces are not permitted in the name. Converted to '_'\n",
            "  warnings.warn(\"Spaces are not permitted in the name. Converted to '_'\")\n"
          ]
        }
      ]
    },
    {
      "cell_type": "code",
      "source": [
        "#solve it:\n",
        "problem.solve()"
      ],
      "metadata": {
        "colab": {
          "base_uri": "https://localhost:8080/"
        },
        "id": "Y_Rf3RuS9TmA",
        "outputId": "2095b1ea-8268-462c-c940-16ce19277341"
      },
      "execution_count": 14,
      "outputs": [
        {
          "output_type": "execute_result",
          "data": {
            "text/plain": [
              "1"
            ]
          },
          "metadata": {},
          "execution_count": 14
        }
      ]
    },
    {
      "cell_type": "code",
      "source": [
        "print(f\"Status: {pulp.LpStatus[problem.status]}\")\n",
        "for v in problem.variables():\n",
        "    print(v.name, \"=\", v.varValue)\n",
        "    \n",
        "print(pulp.value(problem.objective))"
      ],
      "metadata": {
        "colab": {
          "base_uri": "https://localhost:8080/"
        },
        "id": "yuUCO7Y4-0zB",
        "outputId": "d8060806-7c14-44bb-ec6c-76e66ed3194d"
      },
      "execution_count": 15,
      "outputs": [
        {
          "output_type": "stream",
          "name": "stdout",
          "text": [
            "Status: Optimal\n",
            "x_alg = 20000.0\n",
            "x_amst = -0.0\n",
            "x_ant = 3006.0\n",
            "x_gen = 7500.0\n",
            "x_hamb = -0.0\n",
            "x_mars = 9000.0\n",
            "x_rot = -0.0\n",
            "x_val = 11000.0\n",
            "16392820.0\n"
          ]
        }
      ]
    },
    {
      "cell_type": "markdown",
      "source": [
        "# Level 3\n"
      ],
      "metadata": {
        "id": "8Gg2_3wl7Woi"
      }
    },
    {
      "cell_type": "code",
      "source": [
        "# Apart from the previous decision variables, we add those binary variables that take 1 if we pass across dock i, 0 otherwise\n",
        "w_alg = pulp.LpVariable(\n",
        "    name=\"w_alg\",\n",
        "    cat=pulp.LpBinary)\n",
        "\n",
        "w_hamb = pulp.LpVariable(\n",
        "    name=\"w_hamb\",\n",
        "    cat=pulp.LpBinary)\n",
        "\n",
        "w_amst = pulp.LpVariable(\n",
        "    name=\"w_amst\",\n",
        "    cat=pulp.LpBinary)\n",
        "\n",
        "w_ant = pulp.LpVariable(\n",
        "    name=\"w_ant\",\n",
        "    cat=pulp.LpBinary) \n",
        "\n",
        "w_gen = pulp.LpVariable(\n",
        "    name=\"w_gen\",\n",
        "    cat=pulp.LpBinary)\n",
        "\n",
        "w_mars = pulp.LpVariable(\n",
        "    name=\"w_mars\",\n",
        "    cat=pulp.LpBinary)\n",
        "\n",
        "w_rot = pulp.LpVariable(\n",
        "    name=\"w_rot\",\n",
        "    cat=pulp.LpBinary)\n",
        "\n",
        "w_val = pulp.LpVariable(\n",
        "    name=\"w_val\",\n",
        "    cat=pulp.LpBinary)"
      ],
      "metadata": {
        "id": "HYnK8JKC7bmP"
      },
      "execution_count": null,
      "outputs": []
    },
    {
      "cell_type": "code",
      "source": [
        "#target function:\n",
        "\n",
        "target_function2 = x_rot*470 + x_ant*470 + x_hamb*480 + x_amst*610 + x_mars*380 + x_alg*280 + x_val*310 + x_gen*340 + w_alg*800000 + w_mars*500000 + w_ant*1000000\n"
      ],
      "metadata": {
        "id": "5pg0M5eJ7bpf"
      },
      "execution_count": 22,
      "outputs": []
    },
    {
      "cell_type": "code",
      "source": [
        "#constraints:\n",
        "\n",
        "# Constraints of maximum capacity\n",
        "cc1 = x_rot  <= 33000 * w_rot\n",
        "cc2 = x_ant  <= 25000 * w_ant\n",
        "cc3 = x_hamb <= 44000 * w_hamb\n",
        "cc4 = x_amst <= 11000 * w_amst\n",
        "cc5 = x_mars <= 9000  * w_mars\n",
        "cc6 = x_alg  <= 20000 * w_alg\n",
        "cc7 = x_val  <= 11000 * w_val\n",
        "cc8 = x_gen  <= 7500  * w_gen\n",
        "\n",
        "# Constraint of demand to be supplied\n",
        "cc9 = x_rot + x_ant + x_hamb + x_amst + x_mars + x_alg+ x_val + x_gen == 50506\n",
        "\n",
        "# Constraints of non negativity\n",
        "cc10 = x_rot  >= 0\n",
        "cc11 = x_ant  >= 0\n",
        "cc12 = x_hamb >= 0\n",
        "cc13 = x_amst >= 0\n",
        "cc14 = x_mars >= 0 \n",
        "cc15 = x_alg  >= 0\n",
        "cc16 = x_val  >= 0\n",
        "cc17 = x_gen  >= 0\n",
        "\n",
        "# Restriction at most 3 docks\n",
        "cc18 = w_rot + w_ant + w_hamb + w_amst + w_mars + w_alg+ w_val + w_gen <= 3\n"
      ],
      "metadata": {
        "id": "4NsE3DHU7bsF"
      },
      "execution_count": 27,
      "outputs": []
    },
    {
      "cell_type": "code",
      "source": [
        "problem2 = pulp.LpProblem(\"level 3 solution\", pulp.LpMinimize) \n",
        "\n",
        "problem2 += target_function2\n",
        "\n",
        "for constraint in (\n",
        "    cc1,\n",
        "    cc2,\n",
        "    cc3,\n",
        "    cc4,\n",
        "    cc5,\n",
        "    cc6,\n",
        "    cc7,\n",
        "    cc8,\n",
        "    cc9,\n",
        "    cc10,\n",
        "    cc11,\n",
        "    cc12,\n",
        "    cc13,\n",
        "    cc14,\n",
        "    cc15,\n",
        "    cc16,\n",
        "    cc17,\n",
        "    cc18\n",
        "    ):\n",
        "  problem2 += constraint"
      ],
      "metadata": {
        "id": "lfXxdi8t7bus",
        "colab": {
          "base_uri": "https://localhost:8080/"
        },
        "outputId": "77887791-4a8c-4f9d-dc3d-b18df8f8fe92"
      },
      "execution_count": 29,
      "outputs": [
        {
          "output_type": "stream",
          "name": "stderr",
          "text": [
            "/usr/local/lib/python3.7/dist-packages/pulp/pulp.py:1352: UserWarning: Spaces are not permitted in the name. Converted to '_'\n",
            "  warnings.warn(\"Spaces are not permitted in the name. Converted to '_'\")\n"
          ]
        }
      ]
    },
    {
      "cell_type": "code",
      "source": [
        "#solve it:\n",
        "problem2.solve()"
      ],
      "metadata": {
        "colab": {
          "base_uri": "https://localhost:8080/"
        },
        "id": "ivS_LHlJsxPb",
        "outputId": "043001d3-59d4-41b4-f0dd-8287a5f341ff"
      },
      "execution_count": 30,
      "outputs": [
        {
          "output_type": "execute_result",
          "data": {
            "text/plain": [
              "1"
            ]
          },
          "metadata": {},
          "execution_count": 30
        }
      ]
    },
    {
      "cell_type": "code",
      "source": [
        "print(f\"Status: {pulp.LpStatus[problem2.status]}\")\n",
        "for v in problem2.variables():\n",
        "    print(v.name, \"=\", v.varValue)\n",
        "    \n",
        "print(pulp.value(problem2.objective))"
      ],
      "metadata": {
        "colab": {
          "base_uri": "https://localhost:8080/"
        },
        "id": "S3m2ihn3sxRs",
        "outputId": "953828e1-f6c0-4f1a-931d-83846865e8dc"
      },
      "execution_count": 31,
      "outputs": [
        {
          "output_type": "stream",
          "name": "stdout",
          "text": [
            "Status: Optimal\n",
            "w_alg = 1.0\n",
            "w_amst = 0.0\n",
            "w_ant = 0.0\n",
            "w_gen = 0.0\n",
            "w_hamb = 0.0\n",
            "w_mars = 0.0\n",
            "w_rot = 1.0\n",
            "w_val = 1.0\n",
            "x_alg = 20000.0\n",
            "x_amst = -0.0\n",
            "x_ant = -0.0\n",
            "x_gen = -0.0\n",
            "x_hamb = -0.0\n",
            "x_mars = -0.0\n",
            "x_rot = 19506.0\n",
            "x_val = 11000.0\n",
            "18977820.0\n"
          ]
        }
      ]
    }
  ]
}